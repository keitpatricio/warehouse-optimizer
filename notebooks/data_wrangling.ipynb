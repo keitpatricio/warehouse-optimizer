{
 "cells": [
  {
   "cell_type": "code",
   "execution_count": 1,
   "id": "3289908f",
   "metadata": {},
   "outputs": [],
   "source": [
    "from warehouse_optimizer.helpers.source import get_kaggle_data\n",
    "from warehouse_optimizer.configs.configs import Config\n",
    "import polars as pl"
   ]
  },
  {
   "cell_type": "code",
   "execution_count": 33,
   "id": "246edca9",
   "metadata": {},
   "outputs": [],
   "source": [
    "# os.getenv(\"kaggle_username\")\n",
    "# os.getenv(\"kaggle_key\")"
   ]
  },
  {
   "cell_type": "code",
   "execution_count": 5,
   "id": "944de443",
   "metadata": {},
   "outputs": [
    {
     "name": "stdout",
     "output_type": "stream",
     "text": [
      "Dataset URL: https://www.kaggle.com/datasets/mustafakeser4/sap-dataset-bigquery-dataset\n"
     ]
    }
   ],
   "source": [
    "get_kaggle_data(\n",
    "    source_path = Config.kaggle_source_path,\n",
    "    destination_path = Config.raw_data_path\n",
    ")"
   ]
  },
  {
   "cell_type": "code",
   "execution_count": 2,
   "id": "e96d6fdb",
   "metadata": {},
   "outputs": [],
   "source": [
    "raw_file_list = list(Config.raw_data_path.glob(\"*.csv\"))"
   ]
  },
  {
   "cell_type": "code",
   "execution_count": null,
   "id": "f8776439",
   "metadata": {},
   "outputs": [],
   "source": []
  },
  {
   "cell_type": "code",
   "execution_count": 5,
   "id": "74684b10",
   "metadata": {},
   "outputs": [
    {
     "data": {
      "text/html": [
       "<div><style>\n",
       ".dataframe > thead > tr,\n",
       ".dataframe > tbody > tr {\n",
       "  text-align: right;\n",
       "  white-space: pre-wrap;\n",
       "}\n",
       "</style>\n",
       "<small>shape: (325_510, 19)</small><table border=\"1\" class=\"dataframe\"><thead><tr><th>client</th><th>addrnumber</th><th>persnumber</th><th>date_from</th><th>consnumber</th><th>flgdefault</th><th>flg_nouse</th><th>home_flag</th><th>smtp_addr</th><th>smtp_srch</th><th>dft_receiv</th><th>r3_user</th><th>encode</th><th>tnef</th><th>valid_from</th><th>valid_to</th><th>operation_flag</th><th>is_deleted</th><th>recordstamp</th></tr><tr><td>i64</td><td>i64</td><td>i64</td><td>str</td><td>i64</td><td>str</td><td>str</td><td>str</td><td>str</td><td>str</td><td>str</td><td>str</td><td>str</td><td>str</td><td>str</td><td>str</td><td>str</td><td>bool</td><td>str</td></tr></thead><tbody><tr><td>800</td><td>8322</td><td>733621</td><td>&quot;0001-01-01&quot;</td><td>1</td><td>&quot;X&quot;</td><td>null</td><td>&quot;X&quot;</td><td>&quot;unicorn@cft.tips&quot;</td><td>&quot;UNICORN@CFT.TIPS&quot;</td><td>null</td><td>null</td><td>null</td><td>null</td><td>null</td><td>null</td><td>&quot;I&quot;</td><td>false</td><td>&quot;2021-06-19 15:21:01.485512+00:…</td></tr><tr><td>800</td><td>8217</td><td>234306</td><td>&quot;0001-01-01&quot;</td><td>1</td><td>&quot;X&quot;</td><td>null</td><td>&quot;X&quot;</td><td>&quot;xeefaxyxa5484@vodafone.de&quot;</td><td>&quot;XEEFAXYXA5484@VODAFO&quot;</td><td>null</td><td>null</td><td>null</td><td>null</td><td>null</td><td>null</td><td>&quot;I&quot;</td><td>false</td><td>&quot;2021-03-31 02:34:06.142208+00:…</td></tr><tr><td>800</td><td>8217</td><td>234362</td><td>&quot;0001-01-01&quot;</td><td>1</td><td>&quot;X&quot;</td><td>null</td><td>&quot;X&quot;</td><td>&quot;renegesapl45@2golfclubs.com&quot;</td><td>&quot;RENEGESAPL45@2GOLFCL&quot;</td><td>null</td><td>null</td><td>null</td><td>null</td><td>null</td><td>null</td><td>&quot;I&quot;</td><td>false</td><td>&quot;2021-03-31 02:34:06.142208+00:…</td></tr><tr><td>800</td><td>8217</td><td>234392</td><td>&quot;0001-01-01&quot;</td><td>1</td><td>&quot;X&quot;</td><td>null</td><td>&quot;X&quot;</td><td>&quot;bowerywm@royalston.com&quot;</td><td>&quot;BOWERYWM@ROYALSTON.C&quot;</td><td>null</td><td>null</td><td>null</td><td>null</td><td>null</td><td>null</td><td>&quot;I&quot;</td><td>false</td><td>&quot;2021-03-31 02:34:06.142208+00:…</td></tr><tr><td>800</td><td>8217</td><td>234774</td><td>&quot;0001-01-01&quot;</td><td>1</td><td>&quot;X&quot;</td><td>null</td><td>&quot;X&quot;</td><td>&quot;uwekeyc9025@comcast.net&quot;</td><td>&quot;UWEKEYC9025@COMCAST.&quot;</td><td>null</td><td>null</td><td>null</td><td>null</td><td>null</td><td>null</td><td>&quot;I&quot;</td><td>false</td><td>&quot;2021-03-31 02:34:06.142208+00:…</td></tr><tr><td>&hellip;</td><td>&hellip;</td><td>&hellip;</td><td>&hellip;</td><td>&hellip;</td><td>&hellip;</td><td>&hellip;</td><td>&hellip;</td><td>&hellip;</td><td>&hellip;</td><td>&hellip;</td><td>&hellip;</td><td>&hellip;</td><td>&hellip;</td><td>&hellip;</td><td>&hellip;</td><td>&hellip;</td><td>&hellip;</td><td>&hellip;</td></tr><tr><td>800</td><td>733284</td><td>null</td><td>&quot;0001-01-01&quot;</td><td>1</td><td>&quot;X&quot;</td><td>null</td><td>&quot;X&quot;</td><td>&quot;maxime_berard@hotmail.fr&quot;</td><td>&quot;MAXIME_BERARD@HOTMAI&quot;</td><td>null</td><td>null</td><td>null</td><td>null</td><td>&quot;20161208000000&quot;</td><td>null</td><td>&quot;I&quot;</td><td>false</td><td>&quot;2021-03-31 02:40:26.793932+00:…</td></tr><tr><td>800</td><td>733279</td><td>null</td><td>&quot;0001-01-01&quot;</td><td>1</td><td>&quot;X&quot;</td><td>null</td><td>&quot;X&quot;</td><td>&quot;chahardy@videotron.ca&quot;</td><td>&quot;CHAHARDY@VIDEOTRON.C&quot;</td><td>null</td><td>null</td><td>null</td><td>null</td><td>&quot;20161208000000&quot;</td><td>null</td><td>&quot;I&quot;</td><td>false</td><td>&quot;2021-03-31 02:40:26.793932+00:…</td></tr><tr><td>800</td><td>733295</td><td>null</td><td>&quot;0001-01-01&quot;</td><td>1</td><td>&quot;X&quot;</td><td>null</td><td>&quot;X&quot;</td><td>&quot;vero.bouchard@videotron.ca&quot;</td><td>&quot;VERO.BOUCHARD@VIDEOT&quot;</td><td>null</td><td>null</td><td>null</td><td>null</td><td>&quot;20161208000000&quot;</td><td>null</td><td>&quot;I&quot;</td><td>false</td><td>&quot;2021-03-31 02:40:26.793932+00:…</td></tr><tr><td>800</td><td>733291</td><td>null</td><td>&quot;0001-01-01&quot;</td><td>1</td><td>&quot;X&quot;</td><td>null</td><td>&quot;X&quot;</td><td>&quot;SARAH46661@gmail.com&quot;</td><td>&quot;SARAH46661@GMAIL.COM&quot;</td><td>null</td><td>null</td><td>null</td><td>null</td><td>&quot;20161208000000&quot;</td><td>null</td><td>&quot;I&quot;</td><td>false</td><td>&quot;2021-03-31 02:40:26.793932+00:…</td></tr><tr><td>800</td><td>733277</td><td>null</td><td>&quot;0001-01-01&quot;</td><td>1</td><td>&quot;X&quot;</td><td>null</td><td>&quot;X&quot;</td><td>&quot;rachelmorrffi@hotmail.com&quot;</td><td>&quot;RACHELMORRFFI@HOTMAI&quot;</td><td>null</td><td>null</td><td>null</td><td>null</td><td>&quot;20161208000000&quot;</td><td>null</td><td>&quot;I&quot;</td><td>false</td><td>&quot;2021-03-31 02:40:26.793932+00:…</td></tr></tbody></table></div>"
      ],
      "text/plain": [
       "shape: (325_510, 19)\n",
       "┌────────┬────────────┬────────────┬────────────┬───┬──────────┬───────────┬───────────┬───────────┐\n",
       "│ client ┆ addrnumber ┆ persnumber ┆ date_from  ┆ … ┆ valid_to ┆ operation ┆ is_delete ┆ recordsta │\n",
       "│ ---    ┆ ---        ┆ ---        ┆ ---        ┆   ┆ ---      ┆ _flag     ┆ d         ┆ mp        │\n",
       "│ i64    ┆ i64        ┆ i64        ┆ str        ┆   ┆ str      ┆ ---       ┆ ---       ┆ ---       │\n",
       "│        ┆            ┆            ┆            ┆   ┆          ┆ str       ┆ bool      ┆ str       │\n",
       "╞════════╪════════════╪════════════╪════════════╪═══╪══════════╪═══════════╪═══════════╪═══════════╡\n",
       "│ 800    ┆ 8322       ┆ 733621     ┆ 0001-01-01 ┆ … ┆ null     ┆ I         ┆ false     ┆ 2021-06-1 │\n",
       "│        ┆            ┆            ┆            ┆   ┆          ┆           ┆           ┆ 9 15:21:0 │\n",
       "│        ┆            ┆            ┆            ┆   ┆          ┆           ┆           ┆ 1.485512+ │\n",
       "│        ┆            ┆            ┆            ┆   ┆          ┆           ┆           ┆ 00:…      │\n",
       "│ 800    ┆ 8217       ┆ 234306     ┆ 0001-01-01 ┆ … ┆ null     ┆ I         ┆ false     ┆ 2021-03-3 │\n",
       "│        ┆            ┆            ┆            ┆   ┆          ┆           ┆           ┆ 1 02:34:0 │\n",
       "│        ┆            ┆            ┆            ┆   ┆          ┆           ┆           ┆ 6.142208+ │\n",
       "│        ┆            ┆            ┆            ┆   ┆          ┆           ┆           ┆ 00:…      │\n",
       "│ 800    ┆ 8217       ┆ 234362     ┆ 0001-01-01 ┆ … ┆ null     ┆ I         ┆ false     ┆ 2021-03-3 │\n",
       "│        ┆            ┆            ┆            ┆   ┆          ┆           ┆           ┆ 1 02:34:0 │\n",
       "│        ┆            ┆            ┆            ┆   ┆          ┆           ┆           ┆ 6.142208+ │\n",
       "│        ┆            ┆            ┆            ┆   ┆          ┆           ┆           ┆ 00:…      │\n",
       "│ 800    ┆ 8217       ┆ 234392     ┆ 0001-01-01 ┆ … ┆ null     ┆ I         ┆ false     ┆ 2021-03-3 │\n",
       "│        ┆            ┆            ┆            ┆   ┆          ┆           ┆           ┆ 1 02:34:0 │\n",
       "│        ┆            ┆            ┆            ┆   ┆          ┆           ┆           ┆ 6.142208+ │\n",
       "│        ┆            ┆            ┆            ┆   ┆          ┆           ┆           ┆ 00:…      │\n",
       "│ 800    ┆ 8217       ┆ 234774     ┆ 0001-01-01 ┆ … ┆ null     ┆ I         ┆ false     ┆ 2021-03-3 │\n",
       "│        ┆            ┆            ┆            ┆   ┆          ┆           ┆           ┆ 1 02:34:0 │\n",
       "│        ┆            ┆            ┆            ┆   ┆          ┆           ┆           ┆ 6.142208+ │\n",
       "│        ┆            ┆            ┆            ┆   ┆          ┆           ┆           ┆ 00:…      │\n",
       "│ …      ┆ …          ┆ …          ┆ …          ┆ … ┆ …        ┆ …         ┆ …         ┆ …         │\n",
       "│ 800    ┆ 733284     ┆ null       ┆ 0001-01-01 ┆ … ┆ null     ┆ I         ┆ false     ┆ 2021-03-3 │\n",
       "│        ┆            ┆            ┆            ┆   ┆          ┆           ┆           ┆ 1 02:40:2 │\n",
       "│        ┆            ┆            ┆            ┆   ┆          ┆           ┆           ┆ 6.793932+ │\n",
       "│        ┆            ┆            ┆            ┆   ┆          ┆           ┆           ┆ 00:…      │\n",
       "│ 800    ┆ 733279     ┆ null       ┆ 0001-01-01 ┆ … ┆ null     ┆ I         ┆ false     ┆ 2021-03-3 │\n",
       "│        ┆            ┆            ┆            ┆   ┆          ┆           ┆           ┆ 1 02:40:2 │\n",
       "│        ┆            ┆            ┆            ┆   ┆          ┆           ┆           ┆ 6.793932+ │\n",
       "│        ┆            ┆            ┆            ┆   ┆          ┆           ┆           ┆ 00:…      │\n",
       "│ 800    ┆ 733295     ┆ null       ┆ 0001-01-01 ┆ … ┆ null     ┆ I         ┆ false     ┆ 2021-03-3 │\n",
       "│        ┆            ┆            ┆            ┆   ┆          ┆           ┆           ┆ 1 02:40:2 │\n",
       "│        ┆            ┆            ┆            ┆   ┆          ┆           ┆           ┆ 6.793932+ │\n",
       "│        ┆            ┆            ┆            ┆   ┆          ┆           ┆           ┆ 00:…      │\n",
       "│ 800    ┆ 733291     ┆ null       ┆ 0001-01-01 ┆ … ┆ null     ┆ I         ┆ false     ┆ 2021-03-3 │\n",
       "│        ┆            ┆            ┆            ┆   ┆          ┆           ┆           ┆ 1 02:40:2 │\n",
       "│        ┆            ┆            ┆            ┆   ┆          ┆           ┆           ┆ 6.793932+ │\n",
       "│        ┆            ┆            ┆            ┆   ┆          ┆           ┆           ┆ 00:…      │\n",
       "│ 800    ┆ 733277     ┆ null       ┆ 0001-01-01 ┆ … ┆ null     ┆ I         ┆ false     ┆ 2021-03-3 │\n",
       "│        ┆            ┆            ┆            ┆   ┆          ┆           ┆           ┆ 1 02:40:2 │\n",
       "│        ┆            ┆            ┆            ┆   ┆          ┆           ┆           ┆ 6.793932+ │\n",
       "│        ┆            ┆            ┆            ┆   ┆          ┆           ┆           ┆ 00:…      │\n",
       "└────────┴────────────┴────────────┴────────────┴───┴──────────┴───────────┴───────────┴───────────┘"
      ]
     },
     "execution_count": 5,
     "metadata": {},
     "output_type": "execute_result"
    }
   ],
   "source": [
    "pl.read_csv(raw_file_list[0])"
   ]
  },
  {
   "cell_type": "code",
   "execution_count": null,
   "id": "3e26cbf7",
   "metadata": {},
   "outputs": [],
   "source": []
  },
  {
   "cell_type": "code",
   "execution_count": null,
   "id": "b2b81d7b",
   "metadata": {},
   "outputs": [],
   "source": []
  }
 ],
 "metadata": {
  "kernelspec": {
   "display_name": "warehouse-optimizer",
   "language": "python",
   "name": "python3"
  },
  "language_info": {
   "codemirror_mode": {
    "name": "ipython",
    "version": 3
   },
   "file_extension": ".py",
   "mimetype": "text/x-python",
   "name": "python",
   "nbconvert_exporter": "python",
   "pygments_lexer": "ipython3",
   "version": "3.12.12"
  }
 },
 "nbformat": 4,
 "nbformat_minor": 5
}
